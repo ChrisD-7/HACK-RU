{
 "cells": [
  {
   "cell_type": "code",
   "execution_count": 1,
   "metadata": {},
   "outputs": [],
   "source": [
    "import numpy as np\n",
    "from scipy.signal import welch\n",
    "from muselsl import stream, list_muses, view"
   ]
  },
  {
   "cell_type": "code",
   "execution_count": 3,
   "metadata": {},
   "outputs": [],
   "source": [
    "from pylsl import StreamInlet, resolve_byprop\n",
    "from scipy.signal import welch, butter, lfilter"
   ]
  },
  {
   "cell_type": "code",
   "execution_count": 4,
   "metadata": {},
   "outputs": [
    {
     "name": "stdout",
     "output_type": "stream",
     "text": [
      "Looking for an EEG stream...\n",
      "No streams found\n"
     ]
    }
   ],
   "source": [
    "import numpy as np\n",
    "from pylsl import StreamInlet, resolve_byprop\n",
    "\n",
    "# First, resolve an EEG stream on the lab network\n",
    "print(\"Looking for an EEG stream...\")\n",
    "streams = resolve_byprop('type', 'EEG', timeout=2)\n",
    "\n",
    "if streams:\n",
    "    # Create a new inlet to read from the stream\n",
    "    inlet = StreamInlet(streams[0])\n",
    "    \n",
    "    while True:\n",
    "        # Get a new sample from the inlet\n",
    "        sample, timestamp = inlet.pull_sample(timeout=1.0)\n",
    "        if sample:\n",
    "            # Process the sample (e.g., append it to a buffer)\n",
    "            print(sample)\n",
    "else:\n",
    "    print(\"No streams found\")"
   ]
  },
  {
   "cell_type": "markdown",
   "metadata": {},
   "source": [
    "We will be using the butterwoth filter"
   ]
  },
  {
   "cell_type": "code",
   "execution_count": null,
   "metadata": {},
   "outputs": [],
   "source": [
    "# Function to design a Butterworth bandpass filter\n",
    "def butter_bandpass(lowcut, highcut, fs, order=5):\n",
    "    nyq = 0.5 * fs\n",
    "    low = lowcut / nyq\n",
    "    high = highcut / nyq\n",
    "    b, a = butter(order, [low, high], btype='band')\n",
    "    return b, a\n",
    "\n",
    "# Function to apply a bandpass filter to the data\n",
    "def bandpass_filter(data, lowcut, highcut, fs, order=5):\n",
    "    b, a = butter_bandpass(lowcut, highcut, fs, order=order)\n",
    "    y = lfilter(b, a, data)\n",
    "    return y\n",
    "\n",
    "# Function to calculate average power in the beta band\n",
    "def beta_band_power(data, fs):\n",
    "    freqs, psd = welch(data, fs=fs, nperseg=len(data))\n",
    "    beta_low, beta_high = 13, 30  # Beta band range in Hz\n",
    "    idx_beta = np.logical_and(freqs >= beta_low, freqs <= beta_high)\n",
    "    beta_power = np.mean(psd[idx_beta])\n",
    "    return beta_power\n",
    "\n",
    "# Define the sampling frequency (fs) based on your device's specifications\n",
    "fs = 256  # Hz\n",
    "\n",
    "# Define a threshold for detecting high concentration from beta power\n",
    "# This should be calibrated based on the user's baseline beta power levels\n",
    "high_concentration_threshold = 0.5  # This is an example value\n",
    "\n",
    "# First, resolve an EEG stream on the lab network\n",
    "print(\"Looking for an EEG stream...\")\n",
    "streams = resolve_byprop('type', 'EEG', timeout=2)"
   ]
  },
  {
   "cell_type": "code",
   "execution_count": null,
   "metadata": {},
   "outputs": [],
   "source": [
    "if streams:\n",
    "    # Create a new inlet to read from the stream\n",
    "    inlet = StreamInlet(streams[0])\n",
    "    \n",
    "    # Initialize a buffer to store a certain number of samples\n",
    "    # For example, to store 5 seconds of data at 256 Hz\n",
    "    buffer_length = 5 * fs\n",
    "    eeg_buffer = np.zeros((buffer_length, len(streams[0].channel_format)))\n",
    "    \n",
    "    print(\"Stream found and connected\")\n",
    "\n",
    "# Define beta band range\n",
    "beta_low, beta_high = 13, 30  # Beta band range in Hz\n",
    "\n",
    "while True:\n",
    "    # Get a new sample from the inlet\n",
    "    sample, timestamp = inlet.pull_sample(timeout=1.0)\n",
    "    if sample:\n",
    "        # Process the sample (e.g., append it to a buffer)\n",
    "        # Shift the existing buffer and append new sample at the end\n",
    "        eeg_buffer = np.roll(eeg_buffer, -1, axis=0)\n",
    "        eeg_buffer[-1, :] = np.array(sample)\n",
    "        \n",
    "        # Process the buffer only when it's full\n",
    "        if np.all(eeg_buffer[:, 0] != 0):\n",
    "            # Preprocess the buffer - apply bandpass filter\n",
    "            filtered_buffer = bandpass_filter(eeg_buffer, beta_low, beta_high, fs)\n",
    "            \n",
    "            # Calculate beta band power\n",
    "            beta_power = beta_band_power(filtered_buffer, fs)\n",
    "            \n",
    "            # Check if beta power exceeds the threshold\n",
    "            if beta_power > high_concentration_threshold:\n",
    "                print(\"High concentration detected. Triggering game action.\")\n",
    "                # Here you would trigger a game action (e.g., select or move a piece)\n",
    "                # trigger_game_action('move')  # Replace with your game action function\n",
    "\n",
    "        else:\n",
    "            print(\"No new samples found\")"
   ]
  }
 ],
 "metadata": {
  "kernelspec": {
   "display_name": "Python 3",
   "language": "python",
   "name": "python3"
  },
  "language_info": {
   "codemirror_mode": {
    "name": "ipython",
    "version": 3
   },
   "file_extension": ".py",
   "mimetype": "text/x-python",
   "name": "python",
   "nbconvert_exporter": "python",
   "pygments_lexer": "ipython3",
   "version": "3.12.0"
  }
 },
 "nbformat": 4,
 "nbformat_minor": 2
}
